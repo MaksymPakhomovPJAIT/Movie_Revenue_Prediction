{
 "cells": [
  {
   "cell_type": "markdown",
   "source": [
    "# Movie Revenue Prediction: A Data-Driven Approach"
   ],
   "metadata": {
    "collapsed": false
   },
   "id": "39e0be79c23d94d3"
  },
  {
   "cell_type": "markdown",
   "source": [
    "## Overview\n",
    "\n",
    "This project explores the analysis and prediction of movie revenue based on a diverse set of features from an IMDB movie dataset (1960–2024). The primary goal is to build a machine learning model capable of estimating a film’s worldwide gross earnings, even when data is missing or incomplete.\n",
    "\n",
    "To achieve this, the dataset underwent extensive cleaning, feature engineering, and imputation of missing values. Key factors such as budget, ratings, nominations, Oscars, director success, and actor popularity were considered to improve prediction accuracy. Multiple machine learning models were tested, including Random Forest and XGBoost, with hyperparameter tuning to optimize performance.\n",
    "\n",
    "This notebook outlines the data preprocessing steps, feature selection, model training, and evaluation, providing insights into the challenges and strategies used to enhance prediction accuracy."
   ],
   "metadata": {
    "collapsed": false
   },
   "id": "d155b377e7be29ed"
  },
  {
   "cell_type": "markdown",
   "source": [
    "# Initial steps"
   ],
   "metadata": {
    "collapsed": false
   },
   "id": "748ea415ad8c0baf"
  },
  {
   "cell_type": "markdown",
   "source": [
    "## Importing data"
   ],
   "metadata": {
    "collapsed": false
   },
   "id": "92844ec3ad337147"
  },
  {
   "cell_type": "code",
   "execution_count": 3074,
   "outputs": [],
   "source": [
    "import numpy as np, pandas as pd\n",
    "import matplotlib as plt"
   ],
   "metadata": {
    "collapsed": false,
    "ExecuteTime": {
     "end_time": "2025-03-16T20:45:40.525567Z",
     "start_time": "2025-03-16T20:45:40.226944Z"
    }
   },
   "id": "9bf6bbe8c03f0eaa"
  },
  {
   "cell_type": "code",
   "execution_count": 3075,
   "outputs": [
    {
     "name": "stdout",
     "output_type": "stream",
     "text": [
      "Warning: Looks like you're using an outdated `kagglehub` version, please consider updating (latest version: 0.3.10)\n",
      "Path to dataset files: /Users/maksimpahomov/.cache/kagglehub/datasets/raedaddala/imdb-movies-from-1960-to-2023/versions/4\n"
     ]
    }
   ],
   "source": [
    "import kagglehub\n",
    "\n",
    "path = kagglehub.dataset_download(\"raedaddala/imdb-movies-from-1960-to-2023\")\n",
    "\n",
    "print(\"Path to dataset files:\", path)"
   ],
   "metadata": {
    "collapsed": false,
    "ExecuteTime": {
     "end_time": "2025-03-16T20:45:41.029095Z",
     "start_time": "2025-03-16T20:45:40.231514Z"
    }
   },
   "id": "b64a568c3aaf3c89"
  },
  {
   "cell_type": "code",
   "execution_count": 3076,
   "outputs": [],
   "source": [
    "import os\n",
    "import pandas as pd\n",
    "\n",
    "# Create an empty list to hold the dataframes\n",
    "dfs = []\n",
    "\n",
    "# Loop through each subdirectory in the 'Data' folder\n",
    "data_dir = os.path.join(path, 'Data')  # Path to 'Data' folder\n",
    "\n",
    "# Loop through the years from 1960 to 2024\n",
    "for year in range(1960, 2025):\n",
    "    year_dir = os.path.join(data_dir, str(year))  # Path to each year folder\n",
    "\n",
    "    # Check if the directory exists and if it contains the relevant merged_movies_data_X.csv file\n",
    "    if os.path.isdir(year_dir):\n",
    "        file_path = os.path.join(year_dir, f'merged_movies_data_{year}.csv')\n",
    "\n",
    "        # Check if the merged_movies_data_X.csv file exists\n",
    "        if os.path.exists(file_path):\n",
    "            # Read the CSV file and append the dataframe to the list\n",
    "            df = pd.read_csv(file_path)\n",
    "            dfs.append(df)\n",
    "        else:\n",
    "            print(f\"Warning: {file_path} not found.\")\n",
    "    else:\n",
    "        print(f\"Warning: {year_dir} is not a valid directory.\")\n",
    "\n",
    "# Concatenate all dataframes in the list into a single dataframe\n",
    "merged_data = pd.concat(dfs, ignore_index=True)\n",
    "\n",
    "# Save the merged dataframe into a new CSV file\n",
    "output_file = os.path.join(path, 'merged_movies_data_all_years.csv')\n",
    "merged_data.to_csv(output_file, index=False)\n"
   ],
   "metadata": {
    "collapsed": false,
    "ExecuteTime": {
     "end_time": "2025-03-16T20:45:41.554220Z",
     "start_time": "2025-03-16T20:45:40.827571Z"
    }
   },
   "id": "b07365f48833e695"
  },
  {
   "cell_type": "code",
   "execution_count": 3077,
   "outputs": [
    {
     "data": {
      "text/plain": "                      Title  \\\n0  1. Swiss Family Robinson   \n1                 2. Psycho   \n2          3. The Apartment   \n3              4. Spartacus   \n4             5. Breathless   \n\n                                          Movie Link  Year Duration  \\\n0  https://www.imdb.com/title/tt0054357/?ref_=sr_t_1  1960    2h 6m   \n1  https://www.imdb.com/title/tt0054215/?ref_=sr_t_2  1960   1h 49m   \n2  https://www.imdb.com/title/tt0053604/?ref_=sr_t_3  1960    2h 5m   \n3  https://www.imdb.com/title/tt0054331/?ref_=sr_t_4  1960   3h 17m   \n4  https://www.imdb.com/title/tt0053472/?ref_=sr_t_5  1960   1h 30m   \n\n         MPA  Rating Votes      budget  grossWorldWide  gross_US_Canada  ...  \\\n0   Approved     7.1   19K   5000000.0      40357287.0       40356000.0  ...   \n1          R     8.5  741K    806947.0      32066835.0       32000000.0  ...   \n2   Approved     8.3  204K   3000000.0      18778738.0       18600000.0  ...   \n3      PG-13     7.9  146K  12000000.0       1846975.0        1830650.0  ...   \n4  Not Rated     7.7   90K    400000.0        594039.0         414173.0  ...   \n\n                                               stars  \\\n0  ['John Mills', 'Dorothy McGuire', 'James MacAr...   \n1   ['Anthony Perkins', 'Janet Leigh', 'Vera Miles']   \n2  ['Jack Lemmon', 'Shirley MacLaine', 'Fred MacM...   \n3  ['Kirk Douglas', 'Laurence Olivier', 'Jean Sim...   \n4  ['Jean-Paul Belmondo', 'Jean Seberg', 'Van Dou...   \n\n                                              genres   countries_origin  \\\n0                ['Survival', 'Adventure', 'Family']  ['United States']   \n1  ['Psychological Horror', 'Psychological Thrill...  ['United States']   \n2  ['Farce', 'Holiday Comedy', 'Holiday Romance',...  ['United States']   \n3  ['Adventure Epic', 'Historical Epic', 'Sword &...  ['United States']   \n4                        ['Caper', 'Crime', 'Drama']         ['France']   \n\n                                   filming_locations  \\\n0                    ['Tobago, Trinidad and Tobago']   \n1  ['Psycho House and Bates Motel, Backlot Univer...   \n2  ['Majestic Theater, 247 West 44th Street, Manh...   \n3     ['Hearst Castle, San Simeon, California, USA']   \n4  ['11 rue Campagne Première, Paris 14, Paris, F...   \n\n                                production_companies              Languages  \\\n0                        ['Walt Disney Productions']   ['English', 'Malay']   \n1  ['Alfred J. Hitchcock Productions', 'Shamley P...            ['English']   \n2                        ['The Mirisch Corporation']            ['English']   \n3                              ['Bryna Productions']            ['English']   \n4  ['Les Films Impéria', 'Les Productions Georges...  ['French', 'English']   \n\n  wins nominations oscars  release_date  \n0    0           0      0        1960.0  \n1    0          14      4        1960.0  \n2    0           8      0        1960.0  \n3    0          11      0        1960.0  \n4    0           4      1        1960.0  \n\n[5 rows x 23 columns]",
      "text/html": "<div>\n<style scoped>\n    .dataframe tbody tr th:only-of-type {\n        vertical-align: middle;\n    }\n\n    .dataframe tbody tr th {\n        vertical-align: top;\n    }\n\n    .dataframe thead th {\n        text-align: right;\n    }\n</style>\n<table border=\"1\" class=\"dataframe\">\n  <thead>\n    <tr style=\"text-align: right;\">\n      <th></th>\n      <th>Title</th>\n      <th>Movie Link</th>\n      <th>Year</th>\n      <th>Duration</th>\n      <th>MPA</th>\n      <th>Rating</th>\n      <th>Votes</th>\n      <th>budget</th>\n      <th>grossWorldWide</th>\n      <th>gross_US_Canada</th>\n      <th>...</th>\n      <th>stars</th>\n      <th>genres</th>\n      <th>countries_origin</th>\n      <th>filming_locations</th>\n      <th>production_companies</th>\n      <th>Languages</th>\n      <th>wins</th>\n      <th>nominations</th>\n      <th>oscars</th>\n      <th>release_date</th>\n    </tr>\n  </thead>\n  <tbody>\n    <tr>\n      <th>0</th>\n      <td>1. Swiss Family Robinson</td>\n      <td>https://www.imdb.com/title/tt0054357/?ref_=sr_t_1</td>\n      <td>1960</td>\n      <td>2h 6m</td>\n      <td>Approved</td>\n      <td>7.1</td>\n      <td>19K</td>\n      <td>5000000.0</td>\n      <td>40357287.0</td>\n      <td>40356000.0</td>\n      <td>...</td>\n      <td>['John Mills', 'Dorothy McGuire', 'James MacAr...</td>\n      <td>['Survival', 'Adventure', 'Family']</td>\n      <td>['United States']</td>\n      <td>['Tobago, Trinidad and Tobago']</td>\n      <td>['Walt Disney Productions']</td>\n      <td>['English', 'Malay']</td>\n      <td>0</td>\n      <td>0</td>\n      <td>0</td>\n      <td>1960.0</td>\n    </tr>\n    <tr>\n      <th>1</th>\n      <td>2. Psycho</td>\n      <td>https://www.imdb.com/title/tt0054215/?ref_=sr_t_2</td>\n      <td>1960</td>\n      <td>1h 49m</td>\n      <td>R</td>\n      <td>8.5</td>\n      <td>741K</td>\n      <td>806947.0</td>\n      <td>32066835.0</td>\n      <td>32000000.0</td>\n      <td>...</td>\n      <td>['Anthony Perkins', 'Janet Leigh', 'Vera Miles']</td>\n      <td>['Psychological Horror', 'Psychological Thrill...</td>\n      <td>['United States']</td>\n      <td>['Psycho House and Bates Motel, Backlot Univer...</td>\n      <td>['Alfred J. Hitchcock Productions', 'Shamley P...</td>\n      <td>['English']</td>\n      <td>0</td>\n      <td>14</td>\n      <td>4</td>\n      <td>1960.0</td>\n    </tr>\n    <tr>\n      <th>2</th>\n      <td>3. The Apartment</td>\n      <td>https://www.imdb.com/title/tt0053604/?ref_=sr_t_3</td>\n      <td>1960</td>\n      <td>2h 5m</td>\n      <td>Approved</td>\n      <td>8.3</td>\n      <td>204K</td>\n      <td>3000000.0</td>\n      <td>18778738.0</td>\n      <td>18600000.0</td>\n      <td>...</td>\n      <td>['Jack Lemmon', 'Shirley MacLaine', 'Fred MacM...</td>\n      <td>['Farce', 'Holiday Comedy', 'Holiday Romance',...</td>\n      <td>['United States']</td>\n      <td>['Majestic Theater, 247 West 44th Street, Manh...</td>\n      <td>['The Mirisch Corporation']</td>\n      <td>['English']</td>\n      <td>0</td>\n      <td>8</td>\n      <td>0</td>\n      <td>1960.0</td>\n    </tr>\n    <tr>\n      <th>3</th>\n      <td>4. Spartacus</td>\n      <td>https://www.imdb.com/title/tt0054331/?ref_=sr_t_4</td>\n      <td>1960</td>\n      <td>3h 17m</td>\n      <td>PG-13</td>\n      <td>7.9</td>\n      <td>146K</td>\n      <td>12000000.0</td>\n      <td>1846975.0</td>\n      <td>1830650.0</td>\n      <td>...</td>\n      <td>['Kirk Douglas', 'Laurence Olivier', 'Jean Sim...</td>\n      <td>['Adventure Epic', 'Historical Epic', 'Sword &amp;...</td>\n      <td>['United States']</td>\n      <td>['Hearst Castle, San Simeon, California, USA']</td>\n      <td>['Bryna Productions']</td>\n      <td>['English']</td>\n      <td>0</td>\n      <td>11</td>\n      <td>0</td>\n      <td>1960.0</td>\n    </tr>\n    <tr>\n      <th>4</th>\n      <td>5. Breathless</td>\n      <td>https://www.imdb.com/title/tt0053472/?ref_=sr_t_5</td>\n      <td>1960</td>\n      <td>1h 30m</td>\n      <td>Not Rated</td>\n      <td>7.7</td>\n      <td>90K</td>\n      <td>400000.0</td>\n      <td>594039.0</td>\n      <td>414173.0</td>\n      <td>...</td>\n      <td>['Jean-Paul Belmondo', 'Jean Seberg', 'Van Dou...</td>\n      <td>['Caper', 'Crime', 'Drama']</td>\n      <td>['France']</td>\n      <td>['11 rue Campagne Première, Paris 14, Paris, F...</td>\n      <td>['Les Films Impéria', 'Les Productions Georges...</td>\n      <td>['French', 'English']</td>\n      <td>0</td>\n      <td>4</td>\n      <td>1</td>\n      <td>1960.0</td>\n    </tr>\n  </tbody>\n</table>\n<p>5 rows × 23 columns</p>\n</div>"
     },
     "execution_count": 3077,
     "metadata": {},
     "output_type": "execute_result"
    }
   ],
   "source": [
    "merged_data.head()"
   ],
   "metadata": {
    "collapsed": false,
    "ExecuteTime": {
     "end_time": "2025-03-16T20:45:41.563583Z",
     "start_time": "2025-03-16T20:45:41.553906Z"
    }
   },
   "id": "d1b4e3f493e00a19"
  },
  {
   "cell_type": "markdown",
   "source": [
    "# Missing values analysis"
   ],
   "metadata": {
    "collapsed": false
   },
   "id": "ee8ee3658ee68acd"
  },
  {
   "cell_type": "markdown",
   "source": [
    "## Initial analysis"
   ],
   "metadata": {
    "collapsed": false
   },
   "id": "e90b07e97da820d0"
  },
  {
   "cell_type": "markdown",
   "source": [
    "Firstly we are going to check how many missing values are there in each column. For that we'll create a function that desplays all the missing data"
   ],
   "metadata": {
    "collapsed": false
   },
   "id": "f660f5097301ecac"
  },
  {
   "cell_type": "code",
   "execution_count": 3078,
   "outputs": [],
   "source": [
    "def missingVals(merged_data):\n",
    "    return (merged_data.isnull().sum() / merged_data.shape[0] * 100).sort_values(ascending=False)"
   ],
   "metadata": {
    "collapsed": false,
    "ExecuteTime": {
     "end_time": "2025-03-16T20:45:41.574947Z",
     "start_time": "2025-03-16T20:45:41.566289Z"
    }
   },
   "id": "9c3dec223bcd74b3"
  },
  {
   "cell_type": "code",
   "execution_count": 3079,
   "outputs": [
    {
     "data": {
      "text/plain": "budget                   64.836310\nopening_weekend_Gross    53.800595\ngross_US_Canada          47.705357\ngrossWorldWide           45.767857\nMPA                      23.738095\nrelease_date              0.842262\nDuration                  0.657738\nRating                    0.410714\nVotes                     0.410714\nfilming_locations         0.000000\noscars                    0.000000\nnominations               0.000000\nwins                      0.000000\nLanguages                 0.000000\nproduction_companies      0.000000\nTitle                     0.000000\ncountries_origin          0.000000\ngenres                    0.000000\nstars                     0.000000\nwriters                   0.000000\nMovie Link                0.000000\nYear                      0.000000\ndirectors                 0.000000\ndtype: float64"
     },
     "execution_count": 3079,
     "metadata": {},
     "output_type": "execute_result"
    }
   ],
   "source": [
    "missingVals(merged_data)"
   ],
   "metadata": {
    "collapsed": false,
    "ExecuteTime": {
     "end_time": "2025-03-16T20:45:41.644164Z",
     "start_time": "2025-03-16T20:45:41.578463Z"
    }
   },
   "id": "5fc148eb3f869259"
  },
  {
   "cell_type": "markdown",
   "source": [
    "### Votes and Rates"
   ],
   "metadata": {
    "collapsed": false
   },
   "id": "b4c08c6a03beee23"
  },
  {
   "cell_type": "markdown",
   "source": [
    "Let's check missing votes and ratings first - why is that happening?"
   ],
   "metadata": {
    "collapsed": false
   },
   "id": "e956c5f4f361a6c4"
  },
  {
   "cell_type": "code",
   "execution_count": 3080,
   "outputs": [
    {
     "name": "stdout",
     "output_type": "stream",
     "text": [
      "(138, 23)\n",
      "(138, 23)\n"
     ]
    },
    {
     "data": {
      "text/plain": "                                         Title  \\\n232                    233. Sun Lovers Holiday   \n352                 353. Hou die Blink Kant Bo   \n369                             370. Luna Park   \n391              392. Sexy sign suki suki suki   \n450                            451. Mukadderat   \n...                                        ...   \n32755                          306. Day by Day   \n32905                  456. Eight Deadly Shots   \n33250  251. LiSA LiVE is SMiLE ALWAYS -LANDER-   \n33308     309. Kenshi Yonezu 2023 Tour Fantasy   \n33522                        523. Die, My Love   \n\n                                              Movie Link  Year Duration  MPA  \\\n232    https://www.imdb.com/title/tt0268505/?ref_=sr_...  1960      NaN  NaN   \n352    https://www.imdb.com/title/tt2034695/?ref_=sr_...  1960   1h 24m  NaN   \n369    https://www.imdb.com/title/tt0186324/?ref_=sr_...  1960      NaN  NaN   \n391    https://www.imdb.com/title/tt5250486/?ref_=sr_...  1960    2h 9m  NaN   \n450    https://www.imdb.com/title/tt0369745/?ref_=sr_...  1960      NaN  NaN   \n...                                                  ...   ...      ...  ...   \n32755  https://www.imdb.com/title/tt28649695/?ref_=sr...  2023   1h 52m  NaN   \n32905  https://www.imdb.com/title/tt27421931/?ref_=sr...  2023   5h 16m  NaN   \n33250  https://www.imdb.com/title/tt32742667/?ref_=sr...  2024   2h 11m  NaN   \n33308  https://www.imdb.com/title/tt33247121/?ref_=sr...  2024   1h 47m  NaN   \n33522  https://www.imdb.com/title/tt9362736/?ref_=sr_...  2024      NaN  NaN   \n\n       Rating Votes  budget  grossWorldWide  gross_US_Canada  ...  \\\n232       NaN   NaN     NaN             NaN              NaN  ...   \n352       NaN   NaN     NaN             NaN              NaN  ...   \n369       NaN   NaN     NaN             NaN              NaN  ...   \n391       NaN   NaN     NaN             NaN              NaN  ...   \n450       NaN   NaN     NaN             NaN              NaN  ...   \n...       ...   ...     ...             ...              ...  ...   \n32755     NaN   NaN     NaN         96227.0          96227.0  ...   \n32905     NaN   NaN     NaN          3776.0           3776.0  ...   \n33250     NaN   NaN     NaN         60710.0          60710.0  ...   \n33308     NaN   NaN     NaN          9746.0           5057.0  ...   \n33522     NaN   NaN     NaN             NaN              NaN  ...   \n\n                                                   stars  \\\n232    ['Mário Benvenutti', 'Nuvem Branca', 'Irene de...   \n352       ['Al Debbo', 'Trudie Rossouw', 'Sarah Sylvia']   \n369       ['Pepe Armil', 'Hugo Astar', 'Alberto Barcel']   \n391    ['Hiroshi Kawaguchi', 'Junko Kanô', 'Hitomi No...   \n450    ['Kenan Pars', 'Mualla Kaynak', 'Ahmet Tarik T...   \n...                                                  ...   \n32755                                                 []   \n32905                                                 []   \n33250                                           ['LiSA']   \n33308                                                 []   \n33522  ['Robert Pattinson', 'Jennifer Lawrence', 'Sis...   \n\n                     genres                     countries_origin  \\\n232              ['Comedy']                           ['Brazil']   \n352              ['Comedy']                     ['South Africa']   \n369                      []                        ['Argentina']   \n391    ['Romance', 'Sport']                            ['Japan']   \n450               ['Drama']                           ['Turkey']   \n...                     ...                                  ...   \n32755       ['Documentary']                    ['United States']   \n32905                    []                                   []   \n33250             ['Music']                                   []   \n33308             ['Music']                                   []   \n33522  ['Comedy', 'Horror']  ['United Kingdom', 'United States']   \n\n                filming_locations  \\\n232                            []   \n352                            []   \n369                            []   \n391                            []   \n450                            []   \n...                           ...   \n32755                          []   \n32905                          []   \n33250                          []   \n33308                          []   \n33522  ['Calgary Alberta Canada']   \n\n                                    production_companies  \\\n232                                      ['Sino Filmes']   \n352                       ['Jamie Uys Film Productions']   \n369                     ['Argentina Sono Film S.A.C.I.']   \n391                                            ['Daiei']   \n450                                        ['Kral Film']   \n...                                                  ...   \n32755                                                 []   \n32905                                                 []   \n33250                                                 []   \n33308                                                 []   \n33522  ['Black Label Media', 'Excellent Cadaver', 'Si...   \n\n                      Languages wins nominations oscars  release_date  \n232              ['Portuguese']    0           0      0        1960.0  \n352    ['Afrikaans', 'English']    0           0      0        1960.0  \n369                 ['Spanish']    0           0      0        1960.0  \n391                ['Japanese']    0           0      0        1960.0  \n450                 ['Turkish']    0           0      0        1960.0  \n...                         ...  ...         ...    ...           ...  \n32755               ['English']    0           0      0        2023.0  \n32905                        []    0           0      0        2023.0  \n33250                        []    0           0      0        2024.0  \n33308                        []    0           0      0        2024.0  \n33522               ['English']    0           0      0        2024.0  \n\n[138 rows x 23 columns]",
      "text/html": "<div>\n<style scoped>\n    .dataframe tbody tr th:only-of-type {\n        vertical-align: middle;\n    }\n\n    .dataframe tbody tr th {\n        vertical-align: top;\n    }\n\n    .dataframe thead th {\n        text-align: right;\n    }\n</style>\n<table border=\"1\" class=\"dataframe\">\n  <thead>\n    <tr style=\"text-align: right;\">\n      <th></th>\n      <th>Title</th>\n      <th>Movie Link</th>\n      <th>Year</th>\n      <th>Duration</th>\n      <th>MPA</th>\n      <th>Rating</th>\n      <th>Votes</th>\n      <th>budget</th>\n      <th>grossWorldWide</th>\n      <th>gross_US_Canada</th>\n      <th>...</th>\n      <th>stars</th>\n      <th>genres</th>\n      <th>countries_origin</th>\n      <th>filming_locations</th>\n      <th>production_companies</th>\n      <th>Languages</th>\n      <th>wins</th>\n      <th>nominations</th>\n      <th>oscars</th>\n      <th>release_date</th>\n    </tr>\n  </thead>\n  <tbody>\n    <tr>\n      <th>232</th>\n      <td>233. Sun Lovers Holiday</td>\n      <td>https://www.imdb.com/title/tt0268505/?ref_=sr_...</td>\n      <td>1960</td>\n      <td>NaN</td>\n      <td>NaN</td>\n      <td>NaN</td>\n      <td>NaN</td>\n      <td>NaN</td>\n      <td>NaN</td>\n      <td>NaN</td>\n      <td>...</td>\n      <td>['Mário Benvenutti', 'Nuvem Branca', 'Irene de...</td>\n      <td>['Comedy']</td>\n      <td>['Brazil']</td>\n      <td>[]</td>\n      <td>['Sino Filmes']</td>\n      <td>['Portuguese']</td>\n      <td>0</td>\n      <td>0</td>\n      <td>0</td>\n      <td>1960.0</td>\n    </tr>\n    <tr>\n      <th>352</th>\n      <td>353. Hou die Blink Kant Bo</td>\n      <td>https://www.imdb.com/title/tt2034695/?ref_=sr_...</td>\n      <td>1960</td>\n      <td>1h 24m</td>\n      <td>NaN</td>\n      <td>NaN</td>\n      <td>NaN</td>\n      <td>NaN</td>\n      <td>NaN</td>\n      <td>NaN</td>\n      <td>...</td>\n      <td>['Al Debbo', 'Trudie Rossouw', 'Sarah Sylvia']</td>\n      <td>['Comedy']</td>\n      <td>['South Africa']</td>\n      <td>[]</td>\n      <td>['Jamie Uys Film Productions']</td>\n      <td>['Afrikaans', 'English']</td>\n      <td>0</td>\n      <td>0</td>\n      <td>0</td>\n      <td>1960.0</td>\n    </tr>\n    <tr>\n      <th>369</th>\n      <td>370. Luna Park</td>\n      <td>https://www.imdb.com/title/tt0186324/?ref_=sr_...</td>\n      <td>1960</td>\n      <td>NaN</td>\n      <td>NaN</td>\n      <td>NaN</td>\n      <td>NaN</td>\n      <td>NaN</td>\n      <td>NaN</td>\n      <td>NaN</td>\n      <td>...</td>\n      <td>['Pepe Armil', 'Hugo Astar', 'Alberto Barcel']</td>\n      <td>[]</td>\n      <td>['Argentina']</td>\n      <td>[]</td>\n      <td>['Argentina Sono Film S.A.C.I.']</td>\n      <td>['Spanish']</td>\n      <td>0</td>\n      <td>0</td>\n      <td>0</td>\n      <td>1960.0</td>\n    </tr>\n    <tr>\n      <th>391</th>\n      <td>392. Sexy sign suki suki suki</td>\n      <td>https://www.imdb.com/title/tt5250486/?ref_=sr_...</td>\n      <td>1960</td>\n      <td>2h 9m</td>\n      <td>NaN</td>\n      <td>NaN</td>\n      <td>NaN</td>\n      <td>NaN</td>\n      <td>NaN</td>\n      <td>NaN</td>\n      <td>...</td>\n      <td>['Hiroshi Kawaguchi', 'Junko Kanô', 'Hitomi No...</td>\n      <td>['Romance', 'Sport']</td>\n      <td>['Japan']</td>\n      <td>[]</td>\n      <td>['Daiei']</td>\n      <td>['Japanese']</td>\n      <td>0</td>\n      <td>0</td>\n      <td>0</td>\n      <td>1960.0</td>\n    </tr>\n    <tr>\n      <th>450</th>\n      <td>451. Mukadderat</td>\n      <td>https://www.imdb.com/title/tt0369745/?ref_=sr_...</td>\n      <td>1960</td>\n      <td>NaN</td>\n      <td>NaN</td>\n      <td>NaN</td>\n      <td>NaN</td>\n      <td>NaN</td>\n      <td>NaN</td>\n      <td>NaN</td>\n      <td>...</td>\n      <td>['Kenan Pars', 'Mualla Kaynak', 'Ahmet Tarik T...</td>\n      <td>['Drama']</td>\n      <td>['Turkey']</td>\n      <td>[]</td>\n      <td>['Kral Film']</td>\n      <td>['Turkish']</td>\n      <td>0</td>\n      <td>0</td>\n      <td>0</td>\n      <td>1960.0</td>\n    </tr>\n    <tr>\n      <th>...</th>\n      <td>...</td>\n      <td>...</td>\n      <td>...</td>\n      <td>...</td>\n      <td>...</td>\n      <td>...</td>\n      <td>...</td>\n      <td>...</td>\n      <td>...</td>\n      <td>...</td>\n      <td>...</td>\n      <td>...</td>\n      <td>...</td>\n      <td>...</td>\n      <td>...</td>\n      <td>...</td>\n      <td>...</td>\n      <td>...</td>\n      <td>...</td>\n      <td>...</td>\n      <td>...</td>\n    </tr>\n    <tr>\n      <th>32755</th>\n      <td>306. Day by Day</td>\n      <td>https://www.imdb.com/title/tt28649695/?ref_=sr...</td>\n      <td>2023</td>\n      <td>1h 52m</td>\n      <td>NaN</td>\n      <td>NaN</td>\n      <td>NaN</td>\n      <td>NaN</td>\n      <td>96227.0</td>\n      <td>96227.0</td>\n      <td>...</td>\n      <td>[]</td>\n      <td>['Documentary']</td>\n      <td>['United States']</td>\n      <td>[]</td>\n      <td>[]</td>\n      <td>['English']</td>\n      <td>0</td>\n      <td>0</td>\n      <td>0</td>\n      <td>2023.0</td>\n    </tr>\n    <tr>\n      <th>32905</th>\n      <td>456. Eight Deadly Shots</td>\n      <td>https://www.imdb.com/title/tt27421931/?ref_=sr...</td>\n      <td>2023</td>\n      <td>5h 16m</td>\n      <td>NaN</td>\n      <td>NaN</td>\n      <td>NaN</td>\n      <td>NaN</td>\n      <td>3776.0</td>\n      <td>3776.0</td>\n      <td>...</td>\n      <td>[]</td>\n      <td>[]</td>\n      <td>[]</td>\n      <td>[]</td>\n      <td>[]</td>\n      <td>[]</td>\n      <td>0</td>\n      <td>0</td>\n      <td>0</td>\n      <td>2023.0</td>\n    </tr>\n    <tr>\n      <th>33250</th>\n      <td>251. LiSA LiVE is SMiLE ALWAYS -LANDER-</td>\n      <td>https://www.imdb.com/title/tt32742667/?ref_=sr...</td>\n      <td>2024</td>\n      <td>2h 11m</td>\n      <td>NaN</td>\n      <td>NaN</td>\n      <td>NaN</td>\n      <td>NaN</td>\n      <td>60710.0</td>\n      <td>60710.0</td>\n      <td>...</td>\n      <td>['LiSA']</td>\n      <td>['Music']</td>\n      <td>[]</td>\n      <td>[]</td>\n      <td>[]</td>\n      <td>[]</td>\n      <td>0</td>\n      <td>0</td>\n      <td>0</td>\n      <td>2024.0</td>\n    </tr>\n    <tr>\n      <th>33308</th>\n      <td>309. Kenshi Yonezu 2023 Tour Fantasy</td>\n      <td>https://www.imdb.com/title/tt33247121/?ref_=sr...</td>\n      <td>2024</td>\n      <td>1h 47m</td>\n      <td>NaN</td>\n      <td>NaN</td>\n      <td>NaN</td>\n      <td>NaN</td>\n      <td>9746.0</td>\n      <td>5057.0</td>\n      <td>...</td>\n      <td>[]</td>\n      <td>['Music']</td>\n      <td>[]</td>\n      <td>[]</td>\n      <td>[]</td>\n      <td>[]</td>\n      <td>0</td>\n      <td>0</td>\n      <td>0</td>\n      <td>2024.0</td>\n    </tr>\n    <tr>\n      <th>33522</th>\n      <td>523. Die, My Love</td>\n      <td>https://www.imdb.com/title/tt9362736/?ref_=sr_...</td>\n      <td>2024</td>\n      <td>NaN</td>\n      <td>NaN</td>\n      <td>NaN</td>\n      <td>NaN</td>\n      <td>NaN</td>\n      <td>NaN</td>\n      <td>NaN</td>\n      <td>...</td>\n      <td>['Robert Pattinson', 'Jennifer Lawrence', 'Sis...</td>\n      <td>['Comedy', 'Horror']</td>\n      <td>['United Kingdom', 'United States']</td>\n      <td>['Calgary Alberta Canada']</td>\n      <td>['Black Label Media', 'Excellent Cadaver', 'Si...</td>\n      <td>['English']</td>\n      <td>0</td>\n      <td>0</td>\n      <td>0</td>\n      <td>2024.0</td>\n    </tr>\n  </tbody>\n</table>\n<p>138 rows × 23 columns</p>\n</div>"
     },
     "execution_count": 3080,
     "metadata": {},
     "output_type": "execute_result"
    }
   ],
   "source": [
    "missing_votes_rows = merged_data[merged_data[\"Votes\"].isna()]\n",
    "print(missing_votes_rows.shape)\n",
    "print(merged_data[merged_data[\"Rating\"].isna()].shape)\n",
    "missing_votes_rows"
   ],
   "metadata": {
    "collapsed": false,
    "ExecuteTime": {
     "end_time": "2025-03-16T20:45:41.644707Z",
     "start_time": "2025-03-16T20:45:41.606960Z"
    }
   },
   "id": "e4c50e68b69a4414"
  },
  {
   "cell_type": "markdown",
   "source": [
    "The thing is that IMDB doesn't release movie's score untill a certain number of people give their votes. We can just get rid of the films without a score/rating since they are the most unpopular and unknown ones and there's only 138 of them"
   ],
   "metadata": {
    "collapsed": false
   },
   "id": "faab95e4ed54ad1c"
  },
  {
   "cell_type": "code",
   "execution_count": 3081,
   "outputs": [],
   "source": [
    "merged_data = merged_data.dropna(subset=[\"Votes\",\"Rating\"])"
   ],
   "metadata": {
    "collapsed": false,
    "ExecuteTime": {
     "end_time": "2025-03-16T20:45:41.683129Z",
     "start_time": "2025-03-16T20:45:41.635191Z"
    }
   },
   "id": "48e5d1357de8427c"
  },
  {
   "cell_type": "code",
   "execution_count": 3082,
   "outputs": [],
   "source": [
    "merged_data=merged_data.reset_index(drop=True)"
   ],
   "metadata": {
    "collapsed": false,
    "ExecuteTime": {
     "end_time": "2025-03-16T20:45:41.684482Z",
     "start_time": "2025-03-16T20:45:41.646050Z"
    }
   },
   "id": "d27f3d78dd36279f"
  },
  {
   "cell_type": "markdown",
   "source": [
    "### MPA Value Grouping"
   ],
   "metadata": {
    "collapsed": false
   },
   "id": "d0fa118472a02165"
  },
  {
   "cell_type": "markdown",
   "source": [
    "Now let's work with MPA. This column doesn't have many different values so I am planning to oneHot encode it further. Thus, we should group as many values as possible."
   ],
   "metadata": {
    "collapsed": false
   },
   "id": "a6a1d8d9b3cf0f2"
  },
  {
   "cell_type": "code",
   "execution_count": 3083,
   "outputs": [
    {
     "data": {
      "text/plain": "R            10098\nNot Rated     4511\nPG-13         3779\nPG            3473\nApproved       981\nUnrated        903\nG              768\nTV-MA          264\nTV-14          194\nX              148\nTV-PG          133\nGP             123\nNC-17           64\nM               50\nTV-G            45\nM/PG            40\nTV-Y7            8\n16+              8\nTV-Y7-FV         5\n18+              5\n13+              4\nTV-Y             3\nTV-13            2\nPassed           2\nK-A              1\nMA-17            1\nName: MPA, dtype: int64"
     },
     "execution_count": 3083,
     "metadata": {},
     "output_type": "execute_result"
    }
   ],
   "source": [
    "merged_data.MPA.value_counts()"
   ],
   "metadata": {
    "collapsed": false,
    "ExecuteTime": {
     "end_time": "2025-03-16T20:45:41.684685Z",
     "start_time": "2025-03-16T20:45:41.655737Z"
    }
   },
   "id": "4d7fab17495ffeba"
  },
  {
   "cell_type": "markdown",
   "source": [
    "To find out the logic begind grouping, check the discription by IMDB: https://help.imdb.com/article/contribution/titles/certificates/GU757M8ZJ9ZPXB39?ref_=helpms_helpart_inline#\n",
    "In the way I did it, R is only for adults, PG can be seen by teens but with a parent, G is for anyone"
   ],
   "metadata": {
    "collapsed": false
   },
   "id": "89c260a7a08e5112"
  },
  {
   "cell_type": "code",
   "execution_count": 3084,
   "outputs": [],
   "source": [
    "merged_data[\"MPA\"]=merged_data[\"MPA\"].fillna(\"Not Rated\")\n",
    "merged_data[\"MPA\"] = merged_data[\"MPA\"].replace(\"Unrated\", \"Not Rated\")\n",
    "merged_data[\"MPA\"] = merged_data[\"MPA\"].replace(\"PG-13\", \"PG\")\n",
    "merged_data[\"MPA\"] = merged_data[\"MPA\"].replace(\"Approved\", \"G\")\n",
    "merged_data[\"MPA\"] = merged_data[\"MPA\"].replace(\"TV-MA\", \"R\")\n",
    "merged_data[\"MPA\"] = merged_data[\"MPA\"].replace(\"TV-14\", \"PG\")\n",
    "merged_data[\"MPA\"] = merged_data[\"MPA\"].replace(\"X\", \"R\")\n",
    "merged_data[\"MPA\"] = merged_data[\"MPA\"].replace(\"TV-PG\", \"PG\")\n",
    "merged_data[\"MPA\"] = merged_data[\"MPA\"].replace(\"GP\", \"PG\")\n",
    "merged_data[\"MPA\"] = merged_data[\"MPA\"].replace(\"NC-17\", \"R\")\n",
    "merged_data[\"MPA\"] = merged_data[\"MPA\"].replace(\"M\", \"PG\")\n",
    "merged_data[\"MPA\"] = merged_data[\"MPA\"].replace(\"TV-G\", \"G\")\n",
    "merged_data[\"MPA\"] = merged_data[\"MPA\"].replace(\"M/PG\", \"PG\")\n",
    "merged_data[\"MPA\"] = merged_data[\"MPA\"].replace(\"TV-Y7\", \"G\")\n",
    "merged_data[\"MPA\"] = merged_data[\"MPA\"].replace(\"16+\", \"R\")\n",
    "merged_data[\"MPA\"] = merged_data[\"MPA\"].replace(\"TV-Y7-FV\", \"G\")\n",
    "merged_data[\"MPA\"] = merged_data[\"MPA\"].replace(\"18+\", \"R\")\n",
    "merged_data[\"MPA\"] = merged_data[\"MPA\"].replace(\"13+\", \"G\")\n",
    "merged_data[\"MPA\"] = merged_data[\"MPA\"].replace(\"TV-Y\", \"G\")\n",
    "merged_data[\"MPA\"] = merged_data[\"MPA\"].replace(\"TV-13\", \"PG\")\n",
    "merged_data[\"MPA\"] = merged_data[\"MPA\"].replace(\"TV-14\", \"PG\")\n",
    "merged_data[\"MPA\"] = merged_data[\"MPA\"].replace(\"Passed\", \"Not Rated\")\n",
    "merged_data[\"MPA\"] = merged_data[\"MPA\"].replace(\"K-A\", \"Not Rated\")\n",
    "merged_data[\"MPA\"] = merged_data[\"MPA\"].replace(\"MA-17\", \"R\")"
   ],
   "metadata": {
    "collapsed": false,
    "ExecuteTime": {
     "end_time": "2025-03-16T20:45:41.750007Z",
     "start_time": "2025-03-16T20:45:41.662899Z"
    }
   },
   "id": "5fd36f4cead3cbd9"
  },
  {
   "cell_type": "code",
   "execution_count": 3085,
   "outputs": [],
   "source": [
    "mpa_dummies = pd.get_dummies(merged_data[\"MPA\"], prefix=\"mpa\")\n",
    "merged_data = pd.concat([merged_data, mpa_dummies], axis=1)"
   ],
   "metadata": {
    "collapsed": false,
    "ExecuteTime": {
     "end_time": "2025-03-16T20:45:41.771585Z",
     "start_time": "2025-03-16T20:45:41.690429Z"
    }
   },
   "id": "fab8c940db96911d"
  },
  {
   "cell_type": "markdown",
   "source": [
    "### Duration Value Transformation"
   ],
   "metadata": {
    "collapsed": false
   },
   "id": "76f88616ce06d1e0"
  },
  {
   "cell_type": "code",
   "execution_count": 3086,
   "outputs": [
    {
     "data": {
      "text/plain": "budget                   64.697269\nopening_weekend_Gross    53.711673\ngross_US_Canada          47.627159\ngrossWorldWide           45.681669\nrelease_date              0.845735\nDuration                  0.519993\nTitle                     0.000000\nfilming_locations         0.000000\nmpa_PG                    0.000000\nmpa_Not Rated             0.000000\nmpa_G                     0.000000\noscars                    0.000000\nnominations               0.000000\nwins                      0.000000\nLanguages                 0.000000\nproduction_companies      0.000000\nstars                     0.000000\ncountries_origin          0.000000\ngenres                    0.000000\nMovie Link                0.000000\nwriters                   0.000000\ndirectors                 0.000000\nVotes                     0.000000\nRating                    0.000000\nMPA                       0.000000\nYear                      0.000000\nmpa_R                     0.000000\ndtype: float64"
     },
     "execution_count": 3086,
     "metadata": {},
     "output_type": "execute_result"
    }
   ],
   "source": [
    "missingVals(merged_data)"
   ],
   "metadata": {
    "collapsed": false,
    "ExecuteTime": {
     "end_time": "2025-03-16T20:45:41.776556Z",
     "start_time": "2025-03-16T20:45:41.729829Z"
    }
   },
   "id": "f146d66ceaaf1a4b"
  },
  {
   "cell_type": "code",
   "execution_count": 3087,
   "outputs": [
    {
     "data": {
      "text/plain": "0         2h 6m\n1        1h 49m\n2         2h 5m\n3        3h 17m\n4        1h 30m\n          ...  \n33457    2h 43m\n33458    1h 51m\n33459    1h 28m\n33460    2h 46m\n33461    1h 34m\nName: Duration, Length: 33462, dtype: object"
     },
     "execution_count": 3087,
     "metadata": {},
     "output_type": "execute_result"
    }
   ],
   "source": [
    "merged_data.Duration"
   ],
   "metadata": {
    "collapsed": false,
    "ExecuteTime": {
     "end_time": "2025-03-16T20:45:41.776756Z",
     "start_time": "2025-03-16T20:45:41.735872Z"
    }
   },
   "id": "be88606d84c51d98"
  },
  {
   "cell_type": "markdown",
   "source": [
    "Firstly we need to convert the values into the proper format. I am going to have an int column of minutes."
   ],
   "metadata": {
    "collapsed": false
   },
   "id": "44d47d74575c83ac"
  },
  {
   "cell_type": "code",
   "execution_count": 3088,
   "outputs": [],
   "source": [
    "def duration_to_minutes(duration):\n",
    "    hours = 0\n",
    "    minutes = 0\n",
    "    if pd.isna(duration):  \n",
    "        return None\n",
    "    if 'h' in duration:\n",
    "        hours = int(duration.split('h')[0].strip())  \n",
    "        duration = duration.split('h')[1].strip()  \n",
    "\n",
    "    if 'm' in duration and duration:\n",
    "        minutes = int(duration.replace('m', '').strip())  \n",
    "\n",
    "    return hours * 60 + minutes  \n",
    "\n",
    "merged_data['DurationMinutes'] = merged_data['Duration'].apply(duration_to_minutes)\n",
    "merged_data=merged_data.drop(columns=['Duration'])"
   ],
   "metadata": {
    "collapsed": false,
    "ExecuteTime": {
     "end_time": "2025-03-16T20:45:41.807229Z",
     "start_time": "2025-03-16T20:45:41.739529Z"
    }
   },
   "id": "89e0627f2712b8be"
  },
  {
   "cell_type": "markdown",
   "source": [
    "Now we would need to make an imputation and I would make it based on years' averages, but we want to split data into train/test first to avoid using test data in training."
   ],
   "metadata": {
    "collapsed": false
   },
   "id": "a4edb891c7934cdf"
  },
  {
   "cell_type": "markdown",
   "source": [
    "### Release date and Wins variables"
   ],
   "metadata": {
    "collapsed": false
   },
   "id": "d28248d3a583f7bb"
  },
  {
   "cell_type": "code",
   "execution_count": 3089,
   "outputs": [
    {
     "data": {
      "text/plain": "       release_date  Year\n0            1960.0  1960\n1            1960.0  1960\n2            1960.0  1960\n3            1960.0  1960\n4            1960.0  1960\n...             ...   ...\n33457        2024.0  2024\n33458        2024.0  2024\n33459        2024.0  2024\n33460        2024.0  2024\n33461        2024.0  2024\n\n[33462 rows x 2 columns]",
      "text/html": "<div>\n<style scoped>\n    .dataframe tbody tr th:only-of-type {\n        vertical-align: middle;\n    }\n\n    .dataframe tbody tr th {\n        vertical-align: top;\n    }\n\n    .dataframe thead th {\n        text-align: right;\n    }\n</style>\n<table border=\"1\" class=\"dataframe\">\n  <thead>\n    <tr style=\"text-align: right;\">\n      <th></th>\n      <th>release_date</th>\n      <th>Year</th>\n    </tr>\n  </thead>\n  <tbody>\n    <tr>\n      <th>0</th>\n      <td>1960.0</td>\n      <td>1960</td>\n    </tr>\n    <tr>\n      <th>1</th>\n      <td>1960.0</td>\n      <td>1960</td>\n    </tr>\n    <tr>\n      <th>2</th>\n      <td>1960.0</td>\n      <td>1960</td>\n    </tr>\n    <tr>\n      <th>3</th>\n      <td>1960.0</td>\n      <td>1960</td>\n    </tr>\n    <tr>\n      <th>4</th>\n      <td>1960.0</td>\n      <td>1960</td>\n    </tr>\n    <tr>\n      <th>...</th>\n      <td>...</td>\n      <td>...</td>\n    </tr>\n    <tr>\n      <th>33457</th>\n      <td>2024.0</td>\n      <td>2024</td>\n    </tr>\n    <tr>\n      <th>33458</th>\n      <td>2024.0</td>\n      <td>2024</td>\n    </tr>\n    <tr>\n      <th>33459</th>\n      <td>2024.0</td>\n      <td>2024</td>\n    </tr>\n    <tr>\n      <th>33460</th>\n      <td>2024.0</td>\n      <td>2024</td>\n    </tr>\n    <tr>\n      <th>33461</th>\n      <td>2024.0</td>\n      <td>2024</td>\n    </tr>\n  </tbody>\n</table>\n<p>33462 rows × 2 columns</p>\n</div>"
     },
     "execution_count": 3089,
     "metadata": {},
     "output_type": "execute_result"
    }
   ],
   "source": [
    "merged_data[['release_date','Year']]"
   ],
   "metadata": {
    "collapsed": false,
    "ExecuteTime": {
     "end_time": "2025-03-16T20:45:41.870023Z",
     "start_time": "2025-03-16T20:45:41.771952Z"
    }
   },
   "id": "66852225f27cdf6d"
  },
  {
   "cell_type": "code",
   "execution_count": 3090,
   "outputs": [
    {
     "data": {
      "text/plain": "                                  Title  release_date  Year\n5886                        287. Ginger           NaN  1971\n11888                   266. Le battant           NaN  1983\n11889                 267. Of the Flesh           NaN  1983\n26040                     40. War Horse           NaN  2011\n26041                     41. Limitless           NaN  2011\n...                                 ...           ...   ...\n27157               158. The To Do List           NaN  2013\n27158          159. The Grand Seduction           NaN  2013\n27159  160. Metallica Through the Never           NaN  2013\n27160             161. The Fifth Estate           NaN  2013\n27161                162. In a World...           NaN  2013\n\n[283 rows x 3 columns]",
      "text/html": "<div>\n<style scoped>\n    .dataframe tbody tr th:only-of-type {\n        vertical-align: middle;\n    }\n\n    .dataframe tbody tr th {\n        vertical-align: top;\n    }\n\n    .dataframe thead th {\n        text-align: right;\n    }\n</style>\n<table border=\"1\" class=\"dataframe\">\n  <thead>\n    <tr style=\"text-align: right;\">\n      <th></th>\n      <th>Title</th>\n      <th>release_date</th>\n      <th>Year</th>\n    </tr>\n  </thead>\n  <tbody>\n    <tr>\n      <th>5886</th>\n      <td>287. Ginger</td>\n      <td>NaN</td>\n      <td>1971</td>\n    </tr>\n    <tr>\n      <th>11888</th>\n      <td>266. Le battant</td>\n      <td>NaN</td>\n      <td>1983</td>\n    </tr>\n    <tr>\n      <th>11889</th>\n      <td>267. Of the Flesh</td>\n      <td>NaN</td>\n      <td>1983</td>\n    </tr>\n    <tr>\n      <th>26040</th>\n      <td>40. War Horse</td>\n      <td>NaN</td>\n      <td>2011</td>\n    </tr>\n    <tr>\n      <th>26041</th>\n      <td>41. Limitless</td>\n      <td>NaN</td>\n      <td>2011</td>\n    </tr>\n    <tr>\n      <th>...</th>\n      <td>...</td>\n      <td>...</td>\n      <td>...</td>\n    </tr>\n    <tr>\n      <th>27157</th>\n      <td>158. The To Do List</td>\n      <td>NaN</td>\n      <td>2013</td>\n    </tr>\n    <tr>\n      <th>27158</th>\n      <td>159. The Grand Seduction</td>\n      <td>NaN</td>\n      <td>2013</td>\n    </tr>\n    <tr>\n      <th>27159</th>\n      <td>160. Metallica Through the Never</td>\n      <td>NaN</td>\n      <td>2013</td>\n    </tr>\n    <tr>\n      <th>27160</th>\n      <td>161. The Fifth Estate</td>\n      <td>NaN</td>\n      <td>2013</td>\n    </tr>\n    <tr>\n      <th>27161</th>\n      <td>162. In a World...</td>\n      <td>NaN</td>\n      <td>2013</td>\n    </tr>\n  </tbody>\n</table>\n<p>283 rows × 3 columns</p>\n</div>"
     },
     "execution_count": 3090,
     "metadata": {},
     "output_type": "execute_result"
    }
   ],
   "source": [
    "merged_data[merged_data['release_date']!=merged_data['Year']][['Title','release_date','Year']]"
   ],
   "metadata": {
    "collapsed": false,
    "ExecuteTime": {
     "end_time": "2025-03-16T20:45:41.870236Z",
     "start_time": "2025-03-16T20:45:41.784587Z"
    }
   },
   "id": "7601e6f99fb966e5"
  },
  {
   "cell_type": "markdown",
   "source": [
    "that's basically the same column as Year except for NaNs, we can just get rid of it right away"
   ],
   "metadata": {
    "collapsed": false
   },
   "id": "b6ce10b3896e6c90"
  },
  {
   "cell_type": "code",
   "execution_count": 3091,
   "outputs": [],
   "source": [
    "merged_data=merged_data.drop(columns='release_date')"
   ],
   "metadata": {
    "collapsed": false,
    "ExecuteTime": {
     "end_time": "2025-03-16T20:45:41.870283Z",
     "start_time": "2025-03-16T20:45:41.791294Z"
    }
   },
   "id": "85307909ec9e8d53"
  },
  {
   "cell_type": "code",
   "execution_count": 3092,
   "outputs": [
    {
     "data": {
      "text/plain": "0"
     },
     "execution_count": 3092,
     "metadata": {},
     "output_type": "execute_result"
    }
   ],
   "source": [
    "merged_data['wins'].sum()"
   ],
   "metadata": {
    "collapsed": false,
    "ExecuteTime": {
     "end_time": "2025-03-16T20:45:41.870494Z",
     "start_time": "2025-03-16T20:45:41.803686Z"
    }
   },
   "id": "b001239ddda2bb94"
  },
  {
   "cell_type": "markdown",
   "source": [
    "'Wins' column should also be deleted"
   ],
   "metadata": {
    "collapsed": false
   },
   "id": "25611e9b230ab288"
  },
  {
   "cell_type": "code",
   "execution_count": 3093,
   "outputs": [],
   "source": [
    "merged_data = merged_data.drop(columns='wins')"
   ],
   "metadata": {
    "collapsed": false,
    "ExecuteTime": {
     "end_time": "2025-03-16T20:45:41.872841Z",
     "start_time": "2025-03-16T20:45:41.807633Z"
    }
   },
   "id": "d2c97a123dbe37d0"
  },
  {
   "cell_type": "code",
   "execution_count": 3094,
   "outputs": [
    {
     "data": {
      "text/plain": "budget                   64.697269\nopening_weekend_Gross    53.711673\ngross_US_Canada          47.627159\ngrossWorldWide           45.681669\nDurationMinutes           0.519993\nfilming_locations         0.000000\nmpa_R                     0.000000\nmpa_PG                    0.000000\nmpa_Not Rated             0.000000\nmpa_G                     0.000000\noscars                    0.000000\nnominations               0.000000\nLanguages                 0.000000\nproduction_companies      0.000000\nTitle                     0.000000\ncountries_origin          0.000000\ngenres                    0.000000\nMovie Link                0.000000\nwriters                   0.000000\ndirectors                 0.000000\nVotes                     0.000000\nRating                    0.000000\nMPA                       0.000000\nYear                      0.000000\nstars                     0.000000\ndtype: float64"
     },
     "execution_count": 3094,
     "metadata": {},
     "output_type": "execute_result"
    }
   ],
   "source": [
    "missingVals(merged_data)"
   ],
   "metadata": {
    "collapsed": false,
    "ExecuteTime": {
     "end_time": "2025-03-16T20:45:41.873772Z",
     "start_time": "2025-03-16T20:45:41.841233Z"
    }
   },
   "id": "21d56a3473d1306d"
  },
  {
   "cell_type": "markdown",
   "source": [
    "### Analysing gross_US_Canada and opening_weekend_Gross"
   ],
   "metadata": {
    "collapsed": false
   },
   "id": "2f9ddf624d1ee12e"
  },
  {
   "cell_type": "markdown",
   "source": [
    "Those variables could be really good for imputing worldwide gross and getting more training data by it but we should check how many values could we impute this way"
   ],
   "metadata": {
    "collapsed": false
   },
   "id": "44f6c9647b838308"
  },
  {
   "cell_type": "code",
   "execution_count": 3095,
   "outputs": [
    {
     "name": "stdout",
     "output_type": "stream",
     "text": [
      "Rows with missing Worldwide Gross but other gross values present: 588\n",
      "Percentage of total dataset: 1.76%\n"
     ]
    }
   ],
   "source": [
    "missing_ww = merged_data['grossWorldWide'].isna()  # Missing Worldwide Gross\n",
    "has_other = merged_data[['gross_US_Canada', 'opening_weekend_Gross']].notna().any(axis=1)  # Other values present\n",
    "\n",
    "count = merged_data[missing_ww & has_other].shape[0]  # Number of such rows\n",
    "total_rows = merged_data.shape[0]  # Total number of rows\n",
    "percentage = (count / total_rows) * 100  # Percentage\n",
    "\n",
    "print(f\"Rows with missing Worldwide Gross but other gross values present: {count}\")\n",
    "print(f\"Percentage of total dataset: {percentage:.2f}%\")"
   ],
   "metadata": {
    "collapsed": false,
    "ExecuteTime": {
     "end_time": "2025-03-16T20:45:41.873854Z",
     "start_time": "2025-03-16T20:45:41.848094Z"
    }
   },
   "id": "ec2728da3d7abf4b"
  },
  {
   "cell_type": "markdown",
   "source": [
    "Since there's less then 2% of values having gross_US_Canada or opening_weekend_Gross and not having grossWorldWide, I would just get rid of those variables. Yes we could possibly estimate grossWorldWide based on those and get 1.76% more training data but I don't consider it important here - we've got enough data anyway."
   ],
   "metadata": {
    "collapsed": false
   },
   "id": "1626da2a5d97be85"
  },
  {
   "cell_type": "code",
   "execution_count": 3096,
   "outputs": [],
   "source": [
    "merged_data = merged_data.drop(columns=['gross_US_Canada','opening_weekend_Gross'])"
   ],
   "metadata": {
    "collapsed": false,
    "ExecuteTime": {
     "end_time": "2025-03-16T20:45:41.873904Z",
     "start_time": "2025-03-16T20:45:41.853603Z"
    }
   },
   "id": "f77e1ee972067a11"
  },
  {
   "cell_type": "markdown",
   "source": [
    "### Languages, Countries_origin and Year"
   ],
   "metadata": {
    "collapsed": false
   },
   "id": "37944250dae4dc49"
  },
  {
   "cell_type": "markdown",
   "source": [
    "Those variables need converting into a proper format first. Then I want to use main country and language only because others are irrelevant."
   ],
   "metadata": {
    "collapsed": false
   },
   "id": "197e0b0606613cb5"
  },
  {
   "cell_type": "code",
   "execution_count": 3097,
   "outputs": [],
   "source": [
    "import ast\n",
    "# Convert string representations of lists to actual lists\n",
    "\n",
    "merged_data['Languages'] = merged_data['Languages'].apply(\n",
    "    lambda x: ast.literal_eval(x) if isinstance(x, str) else x\n",
    ")\n",
    "merged_data['countries_origin'] = merged_data['countries_origin'].apply(\n",
    "    lambda x: ast.literal_eval(x) if isinstance(x, str) else x\n",
    ")\n",
    "merged_data[\"MainCountry\"] = merged_data[\"countries_origin\"].apply(lambda x: x[0] if len(x) > 0 else 'No country')\n",
    "merged_data[\"MainLanguage\"] = merged_data[\"Languages\"].apply(lambda x: x[0] if len(x) > 0 else 'No language')"
   ],
   "metadata": {
    "collapsed": false,
    "ExecuteTime": {
     "end_time": "2025-03-16T20:45:42.156544Z",
     "start_time": "2025-03-16T20:45:41.861923Z"
    }
   },
   "id": "187911110fb1b50e"
  },
  {
   "cell_type": "markdown",
   "source": [
    "I also want to tranform Year variable into standard normal distribution since it is distributed quite oddly. "
   ],
   "metadata": {
    "collapsed": false
   },
   "id": "93ded3be60e9c303"
  },
  {
   "cell_type": "code",
   "execution_count": 3098,
   "outputs": [],
   "source": [
    "merged_data['Year']=(merged_data['Year']-np.mean(merged_data['Year']))/np.std(merged_data['Year'])"
   ],
   "metadata": {
    "collapsed": false,
    "ExecuteTime": {
     "end_time": "2025-03-16T20:45:42.160530Z",
     "start_time": "2025-03-16T20:45:42.157834Z"
    }
   },
   "id": "8ac0e367775cd18a"
  },
  {
   "cell_type": "markdown",
   "source": [
    "## Target variable analysis"
   ],
   "metadata": {
    "collapsed": false
   },
   "id": "939fb96c3a451c92"
  },
  {
   "cell_type": "markdown",
   "source": [
    "Lets visualise the target variable distribution"
   ],
   "metadata": {
    "collapsed": false
   },
   "id": "453384cab48f8636"
  },
  {
   "cell_type": "code",
   "execution_count": 3099,
   "outputs": [
    {
     "data": {
      "text/plain": "<Figure size 1000x600 with 1 Axes>",
      "image/png": "[encoded data removed]"
     },
     "metadata": {},
     "output_type": "display_data"
    },
    {
     "data": {
      "text/plain": "<Figure size 1000x600 with 1 Axes>",
      "image/png": "[encoded data removed]"
     },
     "metadata": {},
     "output_type": "display_data"
    }
   ],
   "source": [
    "import seaborn as sns\n",
    "import matplotlib.pyplot as plt\n",
    "plt.figure(figsize=(10, 6))\n",
    "sns.histplot(merged_data['grossWorldWide'].dropna(), bins=50, kde=True)\n",
    "plt.xlabel('grossWorldWide')\n",
    "plt.ylabel('Frequency')\n",
    "plt.title('Distribution of Worldwide Gross')\n",
    "plt.show()\n",
    "\n",
    "plt.figure(figsize=(10, 6))\n",
    "sns.histplot(np.log1p(merged_data['grossWorldWide'].dropna()), bins=50, kde=True)\n",
    "plt.xlabel('Log(1 + grossWorldWide)')\n",
    "plt.ylabel('Frequency')\n",
    "plt.title('Log-Transformed Distribution of Worldwide Gross')\n",
    "plt.show()"
   ],
   "metadata": {
    "collapsed": false,
    "ExecuteTime": {
     "end_time": "2025-03-16T20:45:42.694976Z",
     "start_time": "2025-03-16T20:45:42.162305Z"
    }
   },
   "id": "cab73cba76d2643"
  },
  {
   "cell_type": "markdown",
   "source": [
    "Log transformation seems like a great idea here but for some reason the quality of the model drops significantly after doing it so we won't be using it here."
   ],
   "metadata": {
    "collapsed": false
   },
   "id": "88996959d12ca897"
  },
  {
   "cell_type": "code",
   "execution_count": 3100,
   "outputs": [],
   "source": [
    "# merged_data['grossWorldWide']=np.log1p(merged_data['grossWorldWide'])\n",
    "# merged_data['budget']=np.log1p(merged_data['budget'])"
   ],
   "metadata": {
    "collapsed": false,
    "ExecuteTime": {
     "end_time": "2025-03-16T20:45:42.752520Z",
     "start_time": "2025-03-16T20:45:42.707140Z"
    }
   },
   "id": "71397375c7af80b"
  },
  {
   "cell_type": "markdown",
   "source": [
    "## Train/test split"
   ],
   "metadata": {
    "collapsed": false
   },
   "id": "b505bef9aad3d1c0"
  },
  {
   "cell_type": "markdown",
   "source": [
    "I want to start imputing some variables now so we should split the data into train/test first "
   ],
   "metadata": {
    "collapsed": false
   },
   "id": "3112f6debfb6a95c"
  },
  {
   "cell_type": "code",
   "execution_count": 3101,
   "outputs": [],
   "source": [
    "from sklearn.model_selection import train_test_split\n",
    "\n",
    "target = \"grossWorldWide\"\n",
    "\n",
    "gross_data = merged_data[merged_data['MainCountry']=='United States']\n",
    "train_data, val_data = train_test_split(gross_data, test_size=0.05, random_state=42)  \n",
    "X_train, X_test, y_train, y_test = train_test_split(train_data, train_data[target], test_size=0.2, random_state=42)"
   ],
   "metadata": {
    "collapsed": false,
    "ExecuteTime": {
     "end_time": "2025-03-16T20:45:42.777504Z",
     "start_time": "2025-03-16T20:45:42.745733Z"
    }
   },
   "id": "906bcc5af18e014c"
  },
  {
   "cell_type": "markdown",
   "source": [
    "We are going to train the model and tune hyperparameters on train/test sets and evaluate the overall performance with validation set"
   ],
   "metadata": {
    "collapsed": false
   },
   "id": "ff4414b9da7474e5"
  },
  {
   "cell_type": "code",
   "execution_count": 3102,
   "outputs": [
    {
     "name": "stdout",
     "output_type": "stream",
     "text": [
      "(15243, 25)\n",
      "(14480, 25)\n",
      "(763, 25)\n"
     ]
    }
   ],
   "source": [
    "print(gross_data.shape)\n",
    "print(train_data.shape)\n",
    "print(val_data.shape)"
   ],
   "metadata": {
    "collapsed": false,
    "ExecuteTime": {
     "end_time": "2025-03-16T20:45:42.791475Z",
     "start_time": "2025-03-16T20:45:42.778202Z"
    }
   },
   "id": "8f232f0fa0b96eb5"
  },
  {
   "cell_type": "markdown",
   "source": [
    "## Duration imputation"
   ],
   "metadata": {
    "collapsed": false
   },
   "id": "dbb91670e937fd5e"
  },
  {
   "cell_type": "markdown",
   "source": [
    "Now let's fill the missing duration values with average of duration of movies of the same year. Yes it is not the most accurate option but ther's only 0.5% of values missing so it is not very important."
   ],
   "metadata": {
    "collapsed": false
   },
   "id": "2bbcc44a127adff6"
  },
  {
   "cell_type": "code",
   "execution_count": 3103,
   "outputs": [],
   "source": [
    "year_avg_duration = X_train.dropna(subset='Year').groupby(\"Year\")[\"DurationMinutes\"].mean()"
   ],
   "metadata": {
    "collapsed": false,
    "ExecuteTime": {
     "end_time": "2025-03-16T20:45:42.791972Z",
     "start_time": "2025-03-16T20:45:42.783064Z"
    }
   },
   "id": "1d06cd14efef57ed"
  },
  {
   "cell_type": "code",
   "execution_count": 3104,
   "outputs": [],
   "source": [
    "X_train=X_train.merge(year_avg_duration, on=\"Year\", how='left', suffixes=('', '_avg'))\n",
    "X_train.DurationMinutes=X_train.DurationMinutes.fillna(value=X_train.DurationMinutes_avg)\n",
    "X_train=X_train.drop(columns=['DurationMinutes_avg'])\n",
    "\n",
    "X_test=X_test.merge(year_avg_duration, on=\"Year\", how='left', suffixes=('', '_avg'))\n",
    "X_test.DurationMinutes=X_test.DurationMinutes.fillna(value=X_test.DurationMinutes_avg)\n",
    "X_test=X_test.drop(columns=['DurationMinutes_avg'])"
   ],
   "metadata": {
    "collapsed": false,
    "ExecuteTime": {
     "end_time": "2025-03-16T20:45:42.816908Z",
     "start_time": "2025-03-16T20:45:42.793920Z"
    }
   },
   "id": "a2562c6864becccf"
  },
  {
   "cell_type": "markdown",
   "source": [
    "## Calculating the auxilary features"
   ],
   "metadata": {
    "collapsed": false
   },
   "id": "e25335ee1a9fed54"
  },
  {
   "cell_type": "markdown",
   "source": [
    "Since we have some very important features like genres, stars, directors etc but they all are strings we are going to use the following approach: we will group movies based on each value of those variables and calculate the average grosses. Then we'll just merge movies with the result. \n",
    "So let's say movies with Brad Pitt have a gross of 1000 on average, with Tom Cruise they would have 2000 respectfully\n",
    "Then a movie with just two of them as stars would have 1500 value in starsAvg variable"
   ],
   "metadata": {
    "collapsed": false
   },
   "id": "735ec18989071813"
  },
  {
   "cell_type": "code",
   "execution_count": 3105,
   "outputs": [],
   "source": [
    "from sklearn.metrics import r2_score,mean_squared_error\n",
    "\n",
    "# Function that provides a list of average per each value of the feature and calculates the avg variable as described before \n",
    "def getIndex(data, feature, form):\n",
    "    if(form):\n",
    "        data[feature] = data[feature].apply(\n",
    "            lambda x: ast.literal_eval(x) if isinstance(x, str) else x\n",
    "        )\n",
    "    data[feature] = data[feature].apply(\n",
    "        lambda x: x if len(x) > 0 else f\"No {feature}\"\n",
    "    )\n",
    "    exploded_data = data.explode(feature)\n",
    "    avg = exploded_data.groupby(feature)['grossWorldWide'].mean()\n",
    "    avg = avg.fillna(avg.quantile(.5))\n",
    "    avg.name=feature+\"Avg\"\n",
    "    exploded_data = exploded_data.merge(avg, how='left', on=feature)\n",
    "    data = data.merge(exploded_data.groupby('Movie Link')[feature+'Avg'].mean(), on='Movie Link', how='left')\n",
    "    return data, avg\n",
    "\n",
    "# Function that calculates the avg variable for testing sets (the function is similar to the one above but doesn't calculate the avg list - as you see, it is provided as a parameter. It is made this way because we want to calculate averages only on training set and then use it for test/val sets.\n",
    "def getTestIndex(data, feature, form, avg):\n",
    "    if(form):\n",
    "        data[feature] = data[feature].apply(\n",
    "            lambda x: ast.literal_eval(x) if isinstance(x, str) else x\n",
    "        )\n",
    "    data[feature] = data[feature].apply(\n",
    "        lambda x: x if len(x) > 0 else f\"No {feature}\"\n",
    "    )\n",
    "    exploded_data = data.explode(feature)\n",
    "    exploded_data = exploded_data.merge(avg, how='left', on=feature)\n",
    "    exploded_data[feature+'Avg']=exploded_data[feature+'Avg'].fillna(avg.quantile(.30))\n",
    "    data = data.merge(exploded_data.groupby('Movie Link')[feature+'Avg'].mean(), on='Movie Link', how='left')\n",
    "    return data\n",
    "\n",
    "# Function prints the metrics for test/predicted sets\n",
    "def getMetrics(y_test,y_pred):\n",
    "    mse = mean_squared_error(y_test, y_pred)\n",
    "    rmse = np.sqrt(mse)\n",
    "    print(f\"RMSE: {rmse}\")\n",
    "    r2 = r2_score(y_test, y_pred)\n",
    "    print(f\"R² Score: {r2}\")\n"
   ],
   "metadata": {
    "collapsed": false,
    "ExecuteTime": {
     "end_time": "2025-03-16T20:45:42.841365Z",
     "start_time": "2025-03-16T20:45:42.818503Z"
    }
   },
   "id": "df76628744f31240"
  },
  {
   "cell_type": "code",
   "execution_count": 3106,
   "outputs": [],
   "source": [
    "X_train, genresAvg = getIndex(X_train, 'genres', True)\n",
    "X_train, langAvg = getIndex(X_train, 'MainLanguage', False)\n",
    "X_train, directorsAvg = getIndex(X_train, 'directors', True)\n",
    "X_train, starsAvg = getIndex(X_train, 'stars', True)"
   ],
   "metadata": {
    "collapsed": false,
    "ExecuteTime": {
     "end_time": "2025-03-16T20:45:43.408493Z",
     "start_time": "2025-03-16T20:45:42.833297Z"
    }
   },
   "id": "90a4f411de443f65"
  },
  {
   "cell_type": "code",
   "execution_count": 3107,
   "outputs": [],
   "source": [
    "X_test = getTestIndex(X_test, 'genres', True, genresAvg)\n",
    "X_test = getTestIndex(X_test, 'MainLanguage', False, langAvg)\n",
    "X_test = getTestIndex(X_test, 'directors', True, directorsAvg)\n",
    "X_test = getTestIndex(X_test, 'stars', True, starsAvg)"
   ],
   "metadata": {
    "collapsed": false,
    "ExecuteTime": {
     "end_time": "2025-03-16T20:45:43.511293Z",
     "start_time": "2025-03-16T20:45:43.428711Z"
    }
   },
   "id": "6c3fc81c70031bcc"
  },
  {
   "cell_type": "markdown",
   "source": [
    "Let's see the results"
   ],
   "metadata": {
    "collapsed": false
   },
   "id": "718145d99df740f5"
  },
  {
   "cell_type": "code",
   "execution_count": 3108,
   "outputs": [
    {
     "data": {
      "text/plain": "      genresAvg  directorsAvg      starsAvg\n0  1.046129e+08  2.166748e+08  2.705003e+08\n1  2.496373e+08  2.146873e+08  2.664295e+08\n2  4.301219e+07  1.418633e+07  1.805014e+07\n3  3.817716e+07  8.703415e+05  4.208590e+07\n4  8.884073e+07  5.520810e+07  5.238671e+07",
      "text/html": "<div>\n<style scoped>\n    .dataframe tbody tr th:only-of-type {\n        vertical-align: middle;\n    }\n\n    .dataframe tbody tr th {\n        vertical-align: top;\n    }\n\n    .dataframe thead th {\n        text-align: right;\n    }\n</style>\n<table border=\"1\" class=\"dataframe\">\n  <thead>\n    <tr style=\"text-align: right;\">\n      <th></th>\n      <th>genresAvg</th>\n      <th>directorsAvg</th>\n      <th>starsAvg</th>\n    </tr>\n  </thead>\n  <tbody>\n    <tr>\n      <th>0</th>\n      <td>1.046129e+08</td>\n      <td>2.166748e+08</td>\n      <td>2.705003e+08</td>\n    </tr>\n    <tr>\n      <th>1</th>\n      <td>2.496373e+08</td>\n      <td>2.146873e+08</td>\n      <td>2.664295e+08</td>\n    </tr>\n    <tr>\n      <th>2</th>\n      <td>4.301219e+07</td>\n      <td>1.418633e+07</td>\n      <td>1.805014e+07</td>\n    </tr>\n    <tr>\n      <th>3</th>\n      <td>3.817716e+07</td>\n      <td>8.703415e+05</td>\n      <td>4.208590e+07</td>\n    </tr>\n    <tr>\n      <th>4</th>\n      <td>8.884073e+07</td>\n      <td>5.520810e+07</td>\n      <td>5.238671e+07</td>\n    </tr>\n  </tbody>\n</table>\n</div>"
     },
     "execution_count": 3108,
     "metadata": {},
     "output_type": "execute_result"
    }
   ],
   "source": [
    "X_train.head()[['genresAvg', 'directorsAvg', 'starsAvg']]"
   ],
   "metadata": {
    "collapsed": false,
    "ExecuteTime": {
     "end_time": "2025-03-16T20:45:43.520736Z",
     "start_time": "2025-03-16T20:45:43.512331Z"
    }
   },
   "id": "db2807e969008c93"
  },
  {
   "cell_type": "markdown",
   "source": [
    "# Budget imputation model"
   ],
   "metadata": {
    "collapsed": false
   },
   "id": "366cd1763f6cb11c"
  },
  {
   "cell_type": "markdown",
   "source": [
    "For imputing Budget variable we need to check the correlations first"
   ],
   "metadata": {
    "collapsed": false
   },
   "id": "a82064726c934433"
  },
  {
   "cell_type": "code",
   "execution_count": 3109,
   "outputs": [
    {
     "name": "stdout",
     "output_type": "stream",
     "text": [
      "budget             1.000000\n",
      "grossWorldWide     0.706260\n",
      "starsAvg           0.689091\n",
      "directorsAvg       0.652505\n",
      "genresAvg          0.596122\n",
      "Year               0.371105\n",
      "DurationMinutes    0.360855\n",
      "nominations        0.295096\n",
      "mpa_PG             0.286146\n",
      "Rating             0.156130\n",
      "oscars             0.126698\n",
      "MainLanguageAvg    0.042031\n",
      "mpa_G             -0.070046\n",
      "mpa_Not Rated     -0.151642\n",
      "mpa_R             -0.171969\n",
      "Name: budget, dtype: float64\n"
     ]
    }
   ],
   "source": [
    "correlations = X_train.corr(numeric_only=True)[\"budget\"].sort_values(ascending=False)\n",
    "print(correlations)"
   ],
   "metadata": {
    "collapsed": false,
    "ExecuteTime": {
     "end_time": "2025-03-16T20:45:43.534776Z",
     "start_time": "2025-03-16T20:45:43.517805Z"
    }
   },
   "id": "cc6b9b65f55fa624"
  },
  {
   "cell_type": "markdown",
   "source": [
    "We can see a very high correlations between budget and auxilary features we've created before. That is quite logical - budget is highly affected by stars, directors, genres and vice versa. Let's use the Linear Regression model to estimate missing budget based on higly correlated variables."
   ],
   "metadata": {
    "collapsed": false
   },
   "id": "a7a83329f6b7cef5"
  },
  {
   "cell_type": "code",
   "execution_count": 3110,
   "outputs": [],
   "source": [
    "from sklearn.linear_model import LinearRegression\n",
    "\n",
    "# Selecting strong predictors\n",
    "features = [\"starsAvg\", \"directorsAvg\", \"genresAvg\"]\n",
    "impute_data = X_train.dropna(subset=[\"budget\"]).dropna(subset=features)\n",
    "model = LinearRegression()\n",
    "model.fit(impute_data[features], impute_data[\"budget\"])\n",
    "\n",
    "# Predicting and filling the missing budget values\n",
    "missing_budget = X_train[X_train[\"budget\"].isna()].dropna(subset=features)\n",
    "X_train.loc[X_train[\"budget\"].isna(), \"budget\"] = model.predict(missing_budget[features])\n",
    "X_test.loc[X_test[\"budget\"].isna(), \"budget\"] = model.predict((X_test[X_test['budget'].isna()])[features])"
   ],
   "metadata": {
    "collapsed": false,
    "ExecuteTime": {
     "end_time": "2025-03-16T20:45:43.625325Z",
     "start_time": "2025-03-16T20:45:43.534688Z"
    }
   },
   "id": "447eae1220c2b0d"
  },
  {
   "cell_type": "markdown",
   "source": [
    "I didn't want to drop rows with missing target variable before because we'd want to use them for imputing budget. Since we've done it, we can drop missing gross and train the model on remaining data."
   ],
   "metadata": {
    "collapsed": false
   },
   "id": "f5a0ab18c86e1b4d"
  },
  {
   "cell_type": "code",
   "execution_count": 3111,
   "outputs": [],
   "source": [
    "y_train = y_train.reset_index(drop=True)\n",
    "y_train = y_train.dropna()\n",
    "X_train = X_train.loc[y_train.index]"
   ],
   "metadata": {
    "collapsed": false,
    "ExecuteTime": {
     "end_time": "2025-03-16T20:45:43.667184Z",
     "start_time": "2025-03-16T20:45:43.585604Z"
    }
   },
   "id": "5c1482807ae09dcc"
  },
  {
   "cell_type": "code",
   "execution_count": 3112,
   "outputs": [],
   "source": [
    "y_test = y_test.reset_index(drop=True)\n",
    "y_test = y_test.dropna()\n",
    "X_test = X_test.loc[y_test.index]"
   ],
   "metadata": {
    "collapsed": false,
    "ExecuteTime": {
     "end_time": "2025-03-16T20:45:43.669904Z",
     "start_time": "2025-03-16T20:45:43.618823Z"
    }
   },
   "id": "b8ea93811cd34516"
  },
  {
   "cell_type": "markdown",
   "source": [
    "# Gross prediction model"
   ],
   "metadata": {
    "collapsed": false
   },
   "id": "239fc4ac64bfa889"
  },
  {
   "cell_type": "markdown",
   "source": [
    "Let's try using Random Forest model as it is very versatile and effective. It will be good to analyse feature importances next as well which is going to be provided by the model."
   ],
   "metadata": {
    "collapsed": false
   },
   "id": "460b391d96c08231"
  },
  {
   "cell_type": "markdown",
   "source": [
    "## Model training"
   ],
   "metadata": {
    "collapsed": false
   },
   "id": "f0304f26a8979a08"
  },
  {
   "cell_type": "code",
   "execution_count": 3113,
   "outputs": [
    {
     "name": "stdout",
     "output_type": "stream",
     "text": [
      "RMSE: 102234463.6444155\n",
      "R² Score: 0.5892620047950239\n"
     ]
    }
   ],
   "source": [
    "from sklearn.ensemble import RandomForestRegressor\n",
    "features = [\"Year\", \"Rating\", \"nominations\", \"oscars\", \"DurationMinutes\", \"genresAvg\",\n",
    "            'MainLanguageAvg', 'directorsAvg', 'mpa_G', 'mpa_Not Rated', 'mpa_PG', 'mpa_R', 'starsAvg', 'budget']\n",
    "\n",
    "X_train = X_train[features]\n",
    "X_test=X_test[features]\n",
    "rf = RandomForestRegressor(n_estimators=100, random_state=42)\n",
    "rf.fit(X_train, y_train)\n",
    "\n",
    "y_pred = rf.predict(X_test)\n",
    "getMetrics(y_test,y_pred)"
   ],
   "metadata": {
    "collapsed": false,
    "ExecuteTime": {
     "end_time": "2025-03-16T20:45:47.011066Z",
     "start_time": "2025-03-16T20:45:43.657989Z"
    }
   },
   "id": "d7dc4ee8e2bc68ba"
  },
  {
   "cell_type": "markdown",
   "source": [
    "We've got out initial result, now let's tune the hyperparameters with GridSearch"
   ],
   "metadata": {
    "collapsed": false
   },
   "id": "4c634a0a000991be"
  },
  {
   "cell_type": "markdown",
   "source": [
    "## Tuning hyperparameters"
   ],
   "metadata": {
    "collapsed": false
   },
   "id": "941d8241a9e8bb02"
  },
  {
   "cell_type": "code",
   "execution_count": 3114,
   "outputs": [
    {
     "name": "stdout",
     "output_type": "stream",
     "text": [
      "Fitting 3 folds for each of 216 candidates, totalling 648 fits\n",
      "Best Hyperparameters: {'max_depth': 20, 'max_features': 'sqrt', 'min_samples_leaf': 1, 'min_samples_split': 5, 'n_estimators': 100}\n",
      "RMSE after tuning: 95208838.35530794\n",
      "R² Score: 0.6437746958433777\n"
     ]
    }
   ],
   "source": [
    "from sklearn.model_selection import GridSearchCV\n",
    "from sklearn.ensemble import RandomForestRegressor\n",
    "\n",
    "# Define the model\n",
    "rf = RandomForestRegressor(random_state=42)\n",
    "\n",
    "# Define the hyperparameter grid\n",
    "param_grid = {\n",
    "    'n_estimators': [50, 100, 200],  # Number of trees\n",
    "    'max_depth': [10, 20, 30, None],  # Tree depth\n",
    "    'min_samples_split': [2, 5, 10],  # Min samples to split a node\n",
    "    'min_samples_leaf': [1, 2, 4],  # Min samples at leaf node\n",
    "    'max_features': ['sqrt', 'log2'],  # Features per split\n",
    "}\n",
    "\n",
    "# GridSearch with Cross-Validation\n",
    "grid_search = GridSearchCV(\n",
    "    rf, param_grid, cv=3, scoring='neg_mean_squared_error', n_jobs=-1, verbose=2\n",
    ")\n",
    "\n",
    "# Fit the model\n",
    "grid_search.fit(X_train, y_train)\n",
    "\n",
    "# Get best hyperparameters\n",
    "best_params = grid_search.best_params_\n",
    "print(\"Best Hyperparameters:\", best_params)\n",
    "\n",
    "# Use the best model\n",
    "best_rf = grid_search.best_estimator_\n",
    "\n",
    "# Predict and evaluate\n",
    "y_pred = best_rf.predict(X_test)\n",
    "\n",
    "from sklearn.metrics import mean_squared_error\n",
    "\n",
    "rmse = mean_squared_error(y_test, y_pred, squared=False)\n",
    "print(f\"RMSE after tuning: {rmse}\")\n",
    "r2 = r2_score(y_test, y_pred)\n",
    "print(f\"R² Score: {r2}\")"
   ],
   "metadata": {
    "collapsed": false,
    "ExecuteTime": {
     "end_time": "2025-03-16T20:46:54.711827Z",
     "start_time": "2025-03-16T20:45:47.013949Z"
    }
   },
   "id": "9710fb4aa03a4629"
  },
  {
   "cell_type": "markdown",
   "source": [
    "Here are some of the R2 results of the options I tried regarding the budget imputations"
   ],
   "metadata": {
    "collapsed": false
   },
   "id": "3aba5faeae7c0d6c"
  },
  {
   "cell_type": "markdown",
   "source": [
    "0.52 no budget at all\n",
    "0.57 no imputation but leaving the variable\n",
    "0.67 dropna both X_train and X_test budget (in real life we might not have the budget)\n",
    "0.59 dropna X_train and impute X_test only\n",
    "0.64 linear reg imputation full dataset"
   ],
   "metadata": {
    "collapsed": false
   },
   "id": "5cbdb90439095ac6"
  },
  {
   "cell_type": "markdown",
   "source": [
    "## Checking performance on the validation set"
   ],
   "metadata": {
    "collapsed": false
   },
   "id": "55c9741bdda4e060"
  },
  {
   "cell_type": "code",
   "execution_count": 3115,
   "outputs": [
    {
     "name": "stdout",
     "output_type": "stream",
     "text": [
      "RMSE after tuning: 72674746.93291765\n",
      "R² Score: 0.7103031963846136\n"
     ]
    }
   ],
   "source": [
    "# Imputing the necessary values \n",
    "val_data=val_data.merge(year_avg_duration, on=\"Year\", how='left', suffixes=('', '_avg'))\n",
    "val_data.DurationMinutes=val_data.DurationMinutes.fillna(value=val_data.DurationMinutes_avg)\n",
    "val_data=val_data.drop(columns=['DurationMinutes_avg'])\n",
    "\n",
    "val_data = getTestIndex(val_data, 'genres', True, genresAvg)\n",
    "val_data = getTestIndex(val_data, 'MainLanguage', False, langAvg)\n",
    "val_data = getTestIndex(val_data, 'directors', True, directorsAvg)\n",
    "val_data = getTestIndex(val_data, 'stars', True, starsAvg)\n",
    "\n",
    "\n",
    "missing_budget = val_data[val_data[\"budget\"].isna()]\n",
    "val_data.loc[val_data[\"budget\"].isna(), \"budget\"] = model.predict(missing_budget[[\"starsAvg\", \"directorsAvg\", \"genresAvg\"]])\n",
    "\n",
    "X_val = val_data[features]\n",
    "y_val = val_data[target]\n",
    "\n",
    "y_val = y_val.reset_index(drop=True)\n",
    "y_val = y_val.dropna()\n",
    "X_val = X_val.loc[y_val.index]\n",
    "\n",
    "best_rf = grid_search.best_estimator_\n",
    "\n",
    "# Predict and evaluate\n",
    "y_pred = best_rf.predict(X_val)\n",
    "\n",
    "rmse = mean_squared_error(y_val, y_pred, squared=False)\n",
    "print(f\"RMSE after tuning: {rmse}\")\n",
    "r2 = r2_score(y_val, y_pred)\n",
    "print(f\"R² Score: {r2}\")"
   ],
   "metadata": {
    "collapsed": false,
    "ExecuteTime": {
     "end_time": "2025-03-16T20:46:54.838683Z",
     "start_time": "2025-03-16T20:46:54.711316Z"
    }
   },
   "id": "bd2e627fb516f595"
  },
  {
   "cell_type": "code",
   "execution_count": 3116,
   "outputs": [
    {
     "data": {
      "text/plain": "<Figure size 1600x600 with 1 Axes>",
      "image/png": "[encoded data removed]"
     },
     "metadata": {},
     "output_type": "display_data"
    }
   ],
   "source": [
    "import matplotlib.pyplot as plt\n",
    "import numpy as np\n",
    "\n",
    "\n",
    "importances = best_rf.feature_importances_\n",
    "\n",
    "# Match feature names\n",
    "feature_names = X_train.columns\n",
    "\n",
    "# Sort by importance\n",
    "indices = np.argsort(importances)[::-1]\n",
    "\n",
    "# Plot feature importances\n",
    "plt.figure(figsize=(16, 6))\n",
    "plt.title(\"Feature Importance in Random Forest\")\n",
    "plt.bar(range(len(importances)), importances[indices], align=\"center\")\n",
    "plt.xticks(range(len(importances)), feature_names[indices], rotation=0)\n",
    "plt.xlabel(\"Feature\")\n",
    "plt.ylabel(\"Importance Score\")\n",
    "plt.show()"
   ],
   "metadata": {
    "collapsed": false,
    "ExecuteTime": {
     "end_time": "2025-03-16T20:46:55.036224Z",
     "start_time": "2025-03-16T20:46:54.838277Z"
    }
   },
   "id": "16ac9096016c8c5f"
  }
 ],
 "metadata": {
  "kernelspec": {
   "display_name": "Python 3",
   "language": "python",
   "name": "python3"
  },
  "language_info": {
   "codemirror_mode": {
    "name": "ipython",
    "version": 2
   },
   "file_extension": ".py",
   "mimetype": "text/x-python",
   "name": "python",
   "nbconvert_exporter": "python",
   "pygments_lexer": "ipython2",
   "version": "2.7.6"
  }
 },
 "nbformat": 4,
 "nbformat_minor": 5
}
